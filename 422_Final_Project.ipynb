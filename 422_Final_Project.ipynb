{
  "nbformat": 4,
  "nbformat_minor": 0,
  "metadata": {
    "colab": {
      "provenance": []
    },
    "kernelspec": {
      "name": "python3",
      "display_name": "Python 3"
    },
    "language_info": {
      "name": "python"
    }
  },
  "cells": [
    {
      "cell_type": "markdown",
      "source": [
        "#Predicting College Admission with Binary Classifiers\n",
        "\n",
        "By: Michelle Badalov, Tamar Kellner, Zeynep Yilmazcoban, and Saima Ahmed"
      ],
      "metadata": {
        "id": "EIikzSw8Nj3D"
      }
    },
    {
      "cell_type": "markdown",
      "source": [
        "#Introduction\n",
        "\n",
        "For our final project, we will attempt to predict chances of university admissions. The data we will be using is the \"Data for Admission in the University\" dataset from Kaggle. You can check it out from this link: https://www.kaggle.com/datasets/akshaydattatraykhare/data-for-admission-in-the-university."
      ],
      "metadata": {
        "id": "js8mP4nTHxIs"
      }
    },
    {
      "cell_type": "markdown",
      "source": [
        "#Motivation\n",
        "\n",
        "Our main motivation is the financial burden of college applications on students. College Board recommends students to apply to 5 to 8 colleges. On average, the cost of one application is around 50 \\$ and can go as high as 80 \\$. This can add up to a total cost of 250\\$ - 640\\$ which is a lot to handle for a high school student. As we all know, college admissions can be tricky and stressful. Although students can roughly have an idea about their chances of being admitted to a particular university, decisions are often unexpected. Having a more accurate way to predict chances of admissions can help students make better decisions while deciding which schools to apply to, thus maximize their chances with the cost they pay.\n",
        "\n",
        "To learn more about how the College Board suggests students should narrow down the list of schools they will apply to, visit https://counselors.collegeboard.org/college-application/how-many.\n"
      ],
      "metadata": {
        "id": "ru8pDnsGH55b"
      }
    },
    {
      "cell_type": "markdown",
      "source": [
        "#Binary Classification"
      ],
      "metadata": {
        "id": "jRpkhx4QH-Kt"
      }
    },
    {
      "cell_type": "markdown",
      "source": [
        "Binary classification is one of the most popular implementations of machine learning. It is a supervised learning algorithm which classifies a set of examples into two groups or classes. The prediction is based on a the chosen binary classification algorithm. We will explore several of these algorithms such as:\n",
        "1. Logistic Regression\n",
        "2. K-Nearest Neighbors\n",
        "3. Decision Tree Classifier \n",
        "\n",
        "Our problem can easily be cast as a binary classification task.\n",
        "\n",
        "Our dataset includes a 'Chance of Admit' column which represents the probability that a student will be granted admission to the university. \n",
        "We can map these percentages to another column which marks a row as 0 if the percentage is less than 0.5, and 1 otherwise, where 0 represents that the student is unlikely to be admitted and 1 is the contrary. \n",
        "\n",
        "Binary Classification has a broad scope of applications beyond admissions statistics. This includes, but is not limited to email spam classification, credit card fraud, quality control, and more. \n",
        "\n",
        "To learn more about Binary Classification check out:\n",
        "\n",
        "https://www.sciencedirect.com/topics/computer-science/binary-classification\n",
        "\n",
        "\n"
      ],
      "metadata": {
        "id": "cZx3LFOF9F3_"
      }
    },
    {
      "cell_type": "markdown",
      "source": [
        "###Preparing the dataset\n",
        "\n",
        "In this step, we will adjust and prepare our dataset so that we can apply our algorithms and produce the most accurate results. \n",
        "To assist us with preprocessing, we load the following packages:"
      ],
      "metadata": {
        "id": "diImNmEGU3OQ"
      }
    },
    {
      "cell_type": "code",
      "source": [
        "from google.colab import drive\n",
        "drive.mount('/content/drive')\n",
        "import numpy as np\n",
        "import pandas as pd \n",
        "import matplotlib.pyplot as plt"
      ],
      "metadata": {
        "id": "ZHpZCzoO138v",
        "colab": {
          "base_uri": "https://localhost:8080/"
        },
        "outputId": "0048f852-b154-4c04-cc6a-9edf92fbf825"
      },
      "execution_count": 30,
      "outputs": [
        {
          "output_type": "stream",
          "name": "stdout",
          "text": [
            "Drive already mounted at /content/drive; to attempt to forcibly remount, call drive.mount(\"/content/drive\", force_remount=True).\n"
          ]
        }
      ]
    },
    {
      "cell_type": "markdown",
      "source": [
        "We then import our data using pandas' read_csv function. \n",
        "To make our lives easier, we first trim any following white space from the column names. Then, we create our truth column, y, which filters the \"Chance of Admit\" column so that it represents whether students have >= 50% chance of admission. The dataset includes a \"Serial No.\" column which we will be dropping since it is irrelevant. Later, we also drop the 'Chance of Admit' column from the input data as it represents the true class.  "
      ],
      "metadata": {
        "id": "tlVmL_ctIHeK"
      }
    },
    {
      "cell_type": "code",
      "execution_count": 31,
      "metadata": {
        "id": "aGigODCH7WXm"
      },
      "outputs": [],
      "source": [
        "df = pd.read_csv('./drive/MyDrive/422 Final Project/adm_data.csv')\n",
        "\n",
        "# Deletes space after column names\n",
        "df.rename(columns = {'Chance of Admit ':'Chance of Admit', 'LOR ':'LOR'}, inplace = True)\n",
        "\n",
        "# Adds binary column which represents whether student has >=50% of admission. \n",
        "y = np.where(df['Chance of Admit'] > 0.5, 1, 0)\n",
        "\n",
        "# Drops irrelevant serial number attribute. \n",
        "X = df.drop(columns=['Serial No.'])\n"
      ]
    },
    {
      "cell_type": "markdown",
      "source": [
        "Now that our dataset is cleaned and organized, we can split it into test and training. We use the train_test_split function from sklearn to do this.\n",
        "\n",
        "This function will give us our full X training data, full X test data, y training data, and y test data."
      ],
      "metadata": {
        "id": "8gNZmYopduVY"
      }
    },
    {
      "cell_type": "code",
      "source": [
        "from sklearn.model_selection import train_test_split"
      ],
      "metadata": {
        "id": "2S7nxyIIdu-Y"
      },
      "execution_count": 32,
      "outputs": []
    },
    {
      "cell_type": "markdown",
      "source": [
        "To perform some brief optimization on the hold out threshold, we tested the performance of logistic regression on various hold out ratios. As seen in the plot of accuracies below, a threshold of 0.4 yields the best performance. Therefore, we will set our hold out ratio to 0.4 for the rest of the tutorial. "
      ],
      "metadata": {
        "id": "mDBGPd9za3mK"
      }
    },
    {
      "cell_type": "code",
      "source": [
        "from sklearn.linear_model import LogisticRegression\n",
        "\n",
        "hold = [0.1, 0.2, 0.3, 0.4, 0.5]\n",
        "\n",
        "acc = []\n",
        "for p in hold:\n",
        "  XTrain, XTest, yTrain, yTest = train_test_split(X, y, test_size=p, random_state=42)\n",
        "\n",
        "  XTrain = XTrain.drop(columns=['Chance of Admit'])\n",
        "  XTest = XTest.drop(columns=['Chance of Admit'])\n",
        "  # Fits logistic regression model to training data.\n",
        "  clf = LogisticRegression(solver='lbfgs', max_iter=500).fit(XTrain, yTrain)\n",
        "\n",
        "  acc.append(clf.score(XTest, yTest))\n",
        "\n",
        "# Plot to compare the model's predicted probabilities vs. the data's given probabilities. \n",
        "plt.plot(hold, acc)\n",
        "\n",
        "plt.xlabel(\"Percent held out\")\n",
        "plt.ylabel(\"Accuracy\")\n",
        "plt.title(\"Accuracy Over Hold Out Ratios\")\n",
        "plt.show()\n",
        "\n",
        "XTrain_full, XTest_full, yTrain, yTest = train_test_split(X, y, test_size=p, random_state=42)\n",
        "\n",
        "XTrain = XTrain_full.drop(columns=['Chance of Admit'])\n",
        "XTest = XTest_full.drop(columns=['Chance of Admit'])"
      ],
      "metadata": {
        "id": "8vBACpZ-WmZm",
        "colab": {
          "base_uri": "https://localhost:8080/",
          "height": 295
        },
        "outputId": "056d82c1-5771-4df9-e2a9-59d5a7afb5a6"
      },
      "execution_count": 33,
      "outputs": [
        {
          "output_type": "display_data",
          "data": {
            "text/plain": [
              "<Figure size 432x288 with 1 Axes>"
            ],
            "image/png": "[encoded data removed]"
          },
          "metadata": {
            "needs_background": "light"
          }
        }
      ]
    },
    {
      "cell_type": "markdown",
      "source": [
        "Note that the random_state parameter is set to 42 so that the shuffling is controlled and we get consistent results.\n"
      ],
      "metadata": {
        "id": "_yvIhNcnYAS3"
      }
    },
    {
      "cell_type": "markdown",
      "source": [
        "Now, we can get to work and start predicting!"
      ],
      "metadata": {
        "id": "JiEJiM1OWmvh"
      }
    },
    {
      "cell_type": "markdown",
      "source": [
        "###Logistic Regression\n",
        "The first algorithm we will go over in this tutorial is Logistic Regression. \n",
        "\n",
        "Logistic regression is used to model relationships between the qualitative target variable and the relevant independent variables. In fact, the logarithmic likelihood of an outcome is a linear combination of the input. In the binary case, the target variable will only be able to take on one of two values, 0 or 1. For this project, 1 represents that the student is likely to be admitted where 0 means they are not.\n",
        "\n",
        "A more detailed explanation of Logistic Regression as a Binary Classifier can be found at:\n",
        "\n",
        "https://towardsdatascience.com/binary-classification-and-logistic-regression-for-beginners-dd6213bf7162\n",
        "\n",
        "To begin with your logistic regression model, you will want to import the following sklearn packages. "
      ],
      "metadata": {
        "id": "fvJmKNSpJpe4"
      }
    },
    {
      "cell_type": "code",
      "source": [
        "from sklearn.linear_model import LogisticRegression\n",
        "from sklearn.metrics import confusion_matrix"
      ],
      "metadata": {
        "id": "0GOCvsFsm7CE"
      },
      "execution_count": 34,
      "outputs": []
    },
    {
      "cell_type": "markdown",
      "source": [
        "The LogisticRegression class implements logistic regression using various libraries and solvers. Further, this class applies regularization as a default and can handle both dense and sparse input. \n",
        "\n",
        "Sklearn's confusion_matrix class will assist us in evaluting the accuracy of our models by creating a confusion matrix.\n",
        "\n",
        "Now we can actually train the model. Thanks to sklearn, this process can be done in just one line!"
      ],
      "metadata": {
        "id": "XQHY0ZWdnFj0"
      }
    },
    {
      "cell_type": "code",
      "source": [
        "# Fits logistic regression model to training data.\n",
        "clf = LogisticRegression(solver='lbfgs', max_iter=500).fit(XTrain, yTrain)"
      ],
      "metadata": {
        "id": "Wg5o8lHioGuU"
      },
      "execution_count": 35,
      "outputs": []
    },
    {
      "cell_type": "markdown",
      "source": [
        "The variable clf holds our fitted logistic regression model! We use the default solver and increase the max_iterations to 500 because the solver does not converge for a lower number of iterations. \n",
        "\n",
        "To expand on this a bit more, if the solver is returning an error that is barely changing between iterations, this means that the algorithm has reached a solution and converged. \n",
        "\n",
        "However, if the errors are significantly varying, this means that the algorithm did not converge. \n",
        "\n",
        "For more information, see:\n",
        "\n",
        "https://stackoverflow.com/questions/62658215/convergencewarning-lbfgs-failed-to-converge-status-1-stop-total-no-of-iter\n",
        "\n",
        "Let us now observe the performance of this model. "
      ],
      "metadata": {
        "id": "0oQfjU6ZoIBa"
      }
    },
    {
      "cell_type": "code",
      "source": [
        "print(\"Accuracy: \")\n",
        "print(clf.score(XTest, yTest))"
      ],
      "metadata": {
        "colab": {
          "base_uri": "https://localhost:8080/"
        },
        "id": "vkz65Wyqpm-e",
        "outputId": "be8b4fbc-4aea-45ff-df63-b3bad7323e39"
      },
      "execution_count": 36,
      "outputs": [
        {
          "output_type": "stream",
          "name": "stdout",
          "text": [
            "Accuracy: \n",
            "0.935\n"
          ]
        }
      ]
    },
    {
      "cell_type": "markdown",
      "source": [
        "Amazing! Despite being so easy to implement, the model has almost a 94% accuracy! Pretty good if you ask us, but there's certainly room for improvement. The goal is, of course, to reach as close to 100% accuracy as possible. \n",
        "\n",
        "Let's see if we can get any more insights on our performance using a confusion matrix. \n",
        "\n",
        "To create the matrix itself is quite simple, also only consisting of one line."
      ],
      "metadata": {
        "id": "H-TsEgpDpsu1"
      }
    },
    {
      "cell_type": "code",
      "source": [
        "# Creates confusion matrix based on model predictions.\n",
        "cm = confusion_matrix(yTrain, clf.predict(XTrain))"
      ],
      "metadata": {
        "id": "ePH-tJ9UqizX"
      },
      "execution_count": 37,
      "outputs": []
    },
    {
      "cell_type": "markdown",
      "source": [
        "Sklearn's confusion_matrix creates a matrix for the training data for us, taking in just our target training data as well as our predictions. \n",
        "\n",
        "The following code allows us to visualize this matrix.  "
      ],
      "metadata": {
        "id": "vVnIx-8SqjUH"
      }
    },
    {
      "cell_type": "code",
      "source": [
        "# Plots confusion matrix. \n",
        "fig, ax = plt.subplots(figsize=(8, 8))\n",
        "ax.imshow(cm)\n",
        "ax.grid(False)\n",
        "ax.xaxis.set(ticks=(0, 1), ticklabels=('Predicted 0s', 'Predicted 1s'))\n",
        "ax.yaxis.set(ticks=(0, 1), ticklabels=('Actual 0s', 'Actual 1s'))\n",
        "ax.set_ylim(1.5, -0.5)\n",
        "for i in range(2):\n",
        "    for j in range(2):\n",
        "        ax.text(j, i, cm[i, j], ha='center', va='center', color='red')\n",
        "plt.show()"
      ],
      "metadata": {
        "id": "mx-AtLEtXed3",
        "colab": {
          "base_uri": "https://localhost:8080/",
          "height": 483
        },
        "outputId": "af45f0a0-13f8-4352-e7cf-a6c40ca7c5c1"
      },
      "execution_count": 38,
      "outputs": [
        {
          "output_type": "display_data",
          "data": {
            "text/plain": [
              "<Figure size 576x576 with 1 Axes>"
            ],
            "image/png": "[encoded data removed]"
          },
          "metadata": {
            "needs_background": "light"
          }
        }
      ]
    },
    {
      "cell_type": "markdown",
      "source": [
        "Now we know the actual number of correct and incorrect predictions for both classes. We can see that the amount of data for class 0 is much less than for class 1. Further, 0's are being predicted as 1's more often than they are classified correctly. \n",
        "\n",
        "A potential improvement on this is using more examples of students who are unlikely to be admitted. \n",
        "\n",
        "\n",
        "If you're still having a hard time understanding the purpose of a confusion matrix, check out Toward Data Science's great overview:\n",
        "\n",
        "https://towardsdatascience.com/understanding-confusion-matrix-a9ad42dcfd62"
      ],
      "metadata": {
        "id": "_80TbO2ErKCX"
      }
    },
    {
      "cell_type": "markdown",
      "source": [
        "As a little experiment on Logistic Regression, we wanted to compare the model's predicted 'Chance of getting in' with our true 'Chance of Admission'. \n",
        "\n",
        "Sklearn uses a one-vs-rest approach for a binary scenario like this. According to scikit-learn.org, LogisticRegression's predict_proba function 'calculates the probability of each class assuming it to be positive using the logistic function'. These values are also normalized.\n",
        "\n",
        "Documentation on LogisticRegression's predict_proba function can be found at:\n",
        "\n",
        "https://scikit-learn.org/stable/modules/generated/sklearn.linear_model.LogisticRegression.html"
      ],
      "metadata": {
        "id": "gRYhKouctl3k"
      }
    },
    {
      "cell_type": "code",
      "source": [
        "# Model's predicted probabilities. \n",
        "PTrain_plt = pd.DataFrame(clf.predict_proba(XTrain), columns = ['Chance not get in','Chance get in'])\n",
        "\n",
        "# True probability. \n",
        "PTrue_plt = XTrain_full['Chance of Admit'].reset_index()\n",
        "\n",
        "\n",
        "indices = range(0, len(PTrue_plt))\n",
        "\n",
        "# Plot to compare the model's predicted probabilities vs. the data's given probabilities. \n",
        "plt.plot(indices, PTrain_plt['Chance get in'], color = \"red\", label = \"Predicted chance of being admitted\")\n",
        "\n",
        "plt.plot(indices, PTrue_plt['Chance of Admit'], color = \"blue\", label = \"True chance of being admitted\")\n",
        "\n",
        "plt.xlabel(\"Example\")\n",
        "plt.ylabel(\"Chance of getting in\")\n",
        "\n",
        "plt.legend()\n",
        "plt.show()"
      ],
      "metadata": {
        "colab": {
          "base_uri": "https://localhost:8080/",
          "height": 279
        },
        "id": "KNiu6_murEJX",
        "outputId": "514e7f65-b1d3-4e32-818a-62f7c379b91c"
      },
      "execution_count": 39,
      "outputs": [
        {
          "output_type": "display_data",
          "data": {
            "text/plain": [
              "<Figure size 432x288 with 1 Axes>"
            ],
            "image/png": "[encoded data removed]"
          },
          "metadata": {
            "needs_background": "light"
          }
        }
      ]
    },
    {
      "cell_type": "markdown",
      "source": [
        "As we can see here, the model's predicted probabilities are much more drastic than our true values. \n",
        "\n",
        "Though we are not sure why this is, it is important to note that as long as the predictions are on the correct side of the 0.5 threshold, the model will the classifying correctly in a **binary case**."
      ],
      "metadata": {
        "id": "zut_idVcuifZ"
      }
    },
    {
      "cell_type": "markdown",
      "source": [
        "For more information and examples of using Logistic Regression check out: \n",
        "\n",
        "https://towardsdatascience.com/binary-classification-and-logistic-regression-for-beginners-dd6213bf7162"
      ],
      "metadata": {
        "id": "6ITbaffEvxKF"
      }
    },
    {
      "cell_type": "markdown",
      "source": [
        "# KNN\n",
        "\n",
        "The second binary classification algorithm we will implement is K-Nearest Neighbors or KNN. Similar to logistic regression, we will use KNeigborsClassifier from sklearn for this algorithm. \n",
        "\n",
        "\n",
        "\n",
        "KNN is another supervised learning classifier and it uses proximity to make classifications or predictions about the grouping of a particular data point. An important value that needs to be picked for KNN is k, the number of neighbors. Value of k depends on the dataset and different k values result in different accuracies. \n",
        "\n",
        "To figure out the best k value that will result in highest accuracy for our particular dataset, we decided to use a simple for loop. The loop tries out every k value from 1 to 9 and picks the value that produces the highest accuracy. \n",
        "\n",
        "To compute training and test data accuracy, we used the score function again. The parameters are set to XTrain and yTrain for training accuracy and XTest and yTest for test accuracy. After trying all the values, we achieved an accuracy of 93% when k=3. This is slightly lower than our logistic regression accuracy (94%!) but we are still happy with the result!\n",
        "\n",
        "More information on the K-Nearest Neighbors algorithm can be found at:\n",
        "\n",
        "\n",
        "https://medium.com/swlh/k-nearest-neighbor-ca2593d7a3c4"
      ],
      "metadata": {
        "id": "s5YqZ_RsHW_a"
      }
    },
    {
      "cell_type": "code",
      "source": [
        "from sklearn.neighbors import KNeighborsClassifier\n",
        "\n",
        "best_knn = KNeighborsClassifier()\n",
        "best_acc = 0\n",
        "\n",
        "neighbors = np.arange(1, 10)\n",
        "train_acc = np.empty(len(neighbors))\n",
        "test_acc = np.empty(len(neighbors))\n",
        "  \n",
        "# Loop over K values\n",
        "for i, k in enumerate(neighbors):\n",
        "    knn = KNeighborsClassifier(k)\n",
        "    knn.fit(XTrain, yTrain)\n",
        "      \n",
        "    # Compute training and test data accuracy\n",
        "    train_acc[i] = knn.score(XTrain, yTrain)\n",
        "    test_acc[i] = knn.score(XTest, yTest)\n",
        "\n",
        "    if (test_acc[i] > best_acc):\n",
        "      best_knn = knn\n",
        "      best_acc = test_acc[i]\n",
        "      best_k = k"
      ],
      "metadata": {
        "id": "_uBHbP9u1HXf"
      },
      "execution_count": 40,
      "outputs": []
    },
    {
      "cell_type": "markdown",
      "source": [
        "Below is a plot of accuracy vs. number of neighbors that shows the outcomes for each k value from 1 to 9. We can see that for each number of neighbors, both testing accuracy and training accuracy varies by a decent amount. \n",
        "\n",
        "At k=1, KNN closely follows the training data and shows a high training accuracy. In comparison, the test accuracy is pretty low, indicating overfitting. As the number of neighbors increase, the gap between testing and training accuracy decreases, getting rid of overfitting. It is also observable here that the best results are produced when number of neighbors is 3."
      ],
      "metadata": {
        "id": "qwY4Z1MY1JRd"
      }
    },
    {
      "cell_type": "code",
      "source": [
        "# Generate plot\n",
        "plt.plot(neighbors, test_acc, label = 'Testing Accuracy')\n",
        "plt.plot(neighbors, train_acc, label = 'Training Accuracy')\n",
        "  \n",
        "plt.legend()\n",
        "plt.xlabel('# Neighbors')\n",
        "plt.ylabel('Accuracy')\n",
        "plt.show()"
      ],
      "metadata": {
        "colab": {
          "base_uri": "https://localhost:8080/",
          "height": 279
        },
        "id": "ec5Z1ifq2DjH",
        "outputId": "d8c1b851-1213-4175-b3de-d181d85e8668"
      },
      "execution_count": 41,
      "outputs": [
        {
          "output_type": "display_data",
          "data": {
            "text/plain": [
              "<Figure size 432x288 with 1 Axes>"
            ],
            "image/png": "[encoded data removed]"
          },
          "metadata": {
            "needs_background": "light"
          }
        }
      ]
    },
    {
      "cell_type": "markdown",
      "source": [
        "Let's make a confusion matrix once again to get more insight on our performance on KNN. Similar to the confusion matrix for logistic regression, there are a lot more data for class 1 compared to class 0. Also again, 0's are being predicted as 1's more often than they are classified correctly whereas 1's are mostly being predicted correctly."
      ],
      "metadata": {
        "id": "AXsY0cOR5AMl"
      }
    },
    {
      "cell_type": "code",
      "source": [
        "cm = confusion_matrix(yTest, best_knn.predict(XTest))\n",
        "\n",
        "fig, ax = plt.subplots(figsize=(8, 8))\n",
        "ax.imshow(cm)\n",
        "ax.grid(False)\n",
        "ax.xaxis.set(ticks=(0, 1), ticklabels=('Predicted 0s', 'Predicted 1s'))\n",
        "ax.yaxis.set(ticks=(0, 1), ticklabels=('Actual 0s', 'Actual 1s'))\n",
        "ax.set_ylim(1.5, -0.5)\n",
        "for i in range(2):\n",
        "    for j in range(2):\n",
        "        ax.text(j, i, cm[i, j], ha='center', va='center', color='red')\n",
        "plt.show()\n",
        "\n",
        "print(\"Accuracy: \")\n",
        "best_knn.score(XTest, yTest)"
      ],
      "metadata": {
        "id": "yYTYwRMIGeOi",
        "colab": {
          "base_uri": "https://localhost:8080/",
          "height": 519
        },
        "outputId": "71f4569d-773f-4e97-81c1-aa2c7799fd64"
      },
      "execution_count": 42,
      "outputs": [
        {
          "output_type": "display_data",
          "data": {
            "text/plain": [
              "<Figure size 576x576 with 1 Axes>"
            ],
            "image/png": "[encoded data removed]"
          },
          "metadata": {
            "needs_background": "light"
          }
        },
        {
          "output_type": "stream",
          "name": "stdout",
          "text": [
            "Accuracy: \n"
          ]
        },
        {
          "output_type": "execute_result",
          "data": {
            "text/plain": [
              "0.925"
            ]
          },
          "metadata": {},
          "execution_count": 42
        }
      ]
    },
    {
      "cell_type": "code",
      "source": [
        "best_k"
      ],
      "metadata": {
        "id": "GqzoZmKI2YEq",
        "colab": {
          "base_uri": "https://localhost:8080/"
        },
        "outputId": "05bde575-8ce2-4027-9f41-9efd6e89e0ac"
      },
      "execution_count": 43,
      "outputs": [
        {
          "output_type": "execute_result",
          "data": {
            "text/plain": [
              "3"
            ]
          },
          "metadata": {},
          "execution_count": 43
        }
      ]
    },
    {
      "cell_type": "markdown",
      "source": [
        "# Decision Tree Classifier\n",
        "We also decided to apply the Decision Tree Classification model to our data set as well, another form of binary classification. In order to use this model we imported the DecisionTreeClassifier object also found in the sklearn libraries, specifically sklearn.tree. \n",
        "After creating the classifier object and fitting it to our training data, we created our predictions by applying this model to the allocated testing data. \n",
        "\n",
        "A more detailed decsription of Decision Tree Classification can be found at:\n",
        "\n",
        "https://towardsdatascience.com/decision-tree-classifier-explained-in-real-life-picking-a-vacation-destination-6226b2b60575"
      ],
      "metadata": {
        "id": "Si9MI6BI6Cnn"
      }
    },
    {
      "cell_type": "code",
      "source": [
        "from sklearn import metrics\n",
        "from sklearn.tree import DecisionTreeClassifier\n",
        "import seaborn as sns\n",
        "\n",
        "\n",
        "print(XTest)\n",
        "\n",
        "print(yTrain)\n",
        "# create a classifier object\n",
        "DTC = DecisionTreeClassifier() \n",
        "# fit the model\n",
        "DTC.fit(XTrain,yTrain)\n",
        "# predict the values for test data\n",
        "pred2 = DTC.predict(XTest)\n",
        "\n",
        "# Regression Score of the model\n",
        "print('Score For Train Data : {}'.format(DTC.score(XTrain,yTrain)))\n",
        "print('Score For Test Data : {}'.format(DTC.score(XTest,yTest)))\n",
        "\n",
        "print('The mean absolute error:', metrics.mean_absolute_error(yTest, pred2))\n",
        "print('The mean squared error:', metrics.mean_squared_error(yTest, pred2))\n",
        "print('The root mean squared error:', np.sqrt(metrics.mean_squared_error(yTest, pred2)))\n",
        "print('\\n')\n",
        "\n",
        "# Plot showacasing the how well model fitted on testing data\n",
        "# sns.scatterplot(x=yTest, y=pred2)\n",
        "\n",
        "\n",
        "indices = range(0, len(pred2))\n",
        "\n",
        "# Plot to compare the model's predicted probabilities vs. the data's given probabilities. \n",
        "\n",
        "plt.scatter(indices, pred2, color = \"red\", label = \"Predicted chance of being admitted\", alpha = 0.3)\n",
        "plt.scatter(indices, yTest, color = \"blue\", label = \"True chance of being admitted\", alpha = 0.3)\n",
        "plt.xlabel('examples')\n",
        "plt.ylabel('predictions')\n",
        "plt.title('Actual test data vs Model predictions ')\n",
        "plt.legend()\n",
        "plt.show()\n",
        "\n"
      ],
      "metadata": {
        "id": "WUQVSD_I6KIu",
        "colab": {
          "base_uri": "https://localhost:8080/",
          "height": 777
        },
        "outputId": "70a588f4-6ba7-4ad1-d1a7-0e71111bc7b1"
      },
      "execution_count": 44,
      "outputs": [
        {
          "output_type": "stream",
          "name": "stdout",
          "text": [
            "     GRE Score  TOEFL Score  University Rating  SOP  LOR  CGPA  Research\n",
            "209        301          104                  3  3.5  4.0  8.12         1\n",
            "280        311          102                  3  4.5  4.0  8.64         1\n",
            "33         340          114                  5  4.0  4.0  9.60         1\n",
            "210        325          108                  4  4.5  4.0  9.06         1\n",
            "93         301           97                  2  3.0  3.0  7.88         1\n",
            "..         ...          ...                ...  ...  ...   ...       ...\n",
            "340        312          107                  3  3.0  3.0  8.46         1\n",
            "337        332          118                  5  5.0  5.0  9.47         1\n",
            "354        297           98                  2  2.5  3.0  7.67         0\n",
            "334        312          107                  4  4.5  4.0  8.65         1\n",
            "302        322          105                  2  3.0  3.0  8.45         1\n",
            "\n",
            "[200 rows x 7 columns]\n",
            "[1 1 1 1 1 1 1 1 1 1 1 1 1 1 1 0 1 1 1 1 1 1 1 1 1 1 1 1 1 1 1 1 1 1 1 1 1\n",
            " 1 1 1 1 1 1 1 1 1 1 1 1 1 1 1 1 1 1 1 1 1 1 1 1 1 1 0 1 1 1 0 1 0 1 1 1 1\n",
            " 1 0 1 1 1 1 1 1 1 1 1 1 1 1 1 1 0 1 1 1 1 1 0 1 1 1 1 1 1 1 1 1 1 0 1 1 1\n",
            " 1 0 1 1 1 1 0 1 1 1 1 1 1 1 1 1 1 1 1 1 1 1 1 1 1 1 1 1 0 1 1 1 0 1 1 0 1\n",
            " 1 1 1 1 1 1 1 1 1 1 1 1 1 1 1 1 1 1 1 1 0 1 0 1 1 1 1 1 1 1 1 1 1 1 1 1 1\n",
            " 1 1 1 1 1 1 1 1 1 1 1 1 1 1 1]\n",
            "Score For Train Data : 1.0\n",
            "Score For Test Data : 0.885\n",
            "The mean absolute error: 0.115\n",
            "The mean squared error: 0.115\n",
            "The root mean squared error: 0.3391164991562634\n",
            "\n",
            "\n"
          ]
        },
        {
          "output_type": "display_data",
          "data": {
            "text/plain": [
              "<Figure size 432x288 with 1 Axes>"
            ],
            "image/png": "[encoded data removed]"
          },
          "metadata": {
            "needs_background": "light"
          }
        }
      ]
    },
    {
      "cell_type": "markdown",
      "source": [
        "Based on the trained models we can compare the test accuracy for each form of binary classification. Logistic Regression concluded with 94.377% accuracy on predicting the test data, K-Nearest Neighbors ended with 93.125%, and the Decision Tree with 90.625%. Though Decision Trees tend to have better accuracy by splitting features, they can also be prone to overfitting, especially with data that has a large number of features and less entries. In our case the features sport a linear trend, higher scores were indicative of higher chance of getting in, so it makes sense that Linear Regression sported the best results."
      ],
      "metadata": {
        "id": "Z8OTvezSXPCm"
      }
    },
    {
      "cell_type": "markdown",
      "source": [
        "# Additional Considerations for Machine Learning in the University Admissions Process\n",
        "Another example of using machine learning in the admissions process is predicting how likely different students are to enroll after being admitted. Universities must determine how many students to admit by factoring in an expected number of students who will decline admissions. Previous works have focused on developing models to predict admitted students' commitment decisions. To learn more about this approach, visit https://doi.org/10.3390/data4020065.\n",
        "\n",
        "An important factor to consider when evaluating models applied to this topic is fairness in machine learning. Diversity and bias in university admissions has been a hot topic for many years now. University admissions is largely a human decision process, with an admissions officer at each university reading applications and ultimately deciding yes or no. Any model that will predict admissions will be trained on historical data that relies on the biases of admissions officers. A model will learn these biases and trends. If a biased model is used on the admissions office end to make decisions, it will reinforce these biases in who will be admitted. If a biased model is used on the applicant end to determine which schools to apply to, this may eforce a cycle that recommends certain groups of people apply to and therefor attend ceratin categories of schools, also reinforceing the biases in the system. This is an ongoing challenge in machine learning that many in the field are working to address. Read about two current projects at the University of Maryland aimed at improving fairness in AI used for admissions and language translation here: https://ischool.umd.edu/news/improving-fairness-and-trust-in-ai-used-for-college-admissions-and-language-translation/.\n"
      ],
      "metadata": {
        "id": "NuYTaeB1butL"
      }
    }
  ]
}